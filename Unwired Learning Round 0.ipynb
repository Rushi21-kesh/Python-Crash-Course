{
 "cells": [
  {
   "cell_type": "markdown",
   "metadata": {},
   "source": [
    "# Coding Question - Round 0"
   ]
  },
  {
   "cell_type": "markdown",
   "metadata": {},
   "source": [
    "###  Exercise 1 - Execution Sequence\n",
    "###### Let's start with easy things first. What will the following code produce?"
   ]
  },
  {
   "cell_type": "code",
   "execution_count": 1,
   "metadata": {},
   "outputs": [
    {
     "name": "stdout",
     "output_type": "stream",
     "text": [
      "21\n"
     ]
    }
   ],
   "source": [
    "num = 27\n",
    "num = 15\n",
    "num = 7\n",
    "print(num + num + num)"
   ]
  },
  {
   "cell_type": "markdown",
   "metadata": {},
   "source": [
    "### Exercise 2 - Naming Rules\n",
    "##### What's wrong with the following script?"
   ]
  },
  {
   "cell_type": "code",
   "execution_count": 3,
   "metadata": {},
   "outputs": [
    {
     "ename": "SyntaxError",
     "evalue": "invalid syntax (<ipython-input-3-3cd9c4349fb2>, line 5)",
     "output_type": "error",
     "traceback": [
      "\u001b[1;36m  File \u001b[1;32m\"<ipython-input-3-3cd9c4349fb2>\"\u001b[1;36m, line \u001b[1;32m5\u001b[0m\n\u001b[1;33m    2num = 20\u001b[0m\n\u001b[1;37m       ^\u001b[0m\n\u001b[1;31mSyntaxError\u001b[0m\u001b[1;31m:\u001b[0m invalid syntax\n"
     ]
    }
   ],
   "source": [
    "#There are certain naming rules you need to follow when creating variables.\n",
    "num = 7\n",
    "_num = 5\n",
    "_num2 = 7\n",
    "2num = 20"
   ]
  },
  {
   "cell_type": "markdown",
   "metadata": {},
   "source": [
    "### Exercise 3 - Type Casting\n",
    "##### Fix the last line so that it outputs the sum of 1 and 2. Please do not change the first two lines. Only the last one. "
   ]
  },
  {
   "cell_type": "markdown",
   "metadata": {},
   "source": [
    "x = \"10\"\n",
    "\n",
    "y = 20 \n",
    "\n",
    "print(a + b)"
   ]
  },
  {
   "cell_type": "code",
   "execution_count": 6,
   "metadata": {},
   "outputs": [
    {
     "name": "stdout",
     "output_type": "stream",
     "text": [
      "30\n"
     ]
    }
   ],
   "source": [
    "x = 10\n",
    "y = 20\n",
    "print(x + y)"
   ]
  },
  {
   "cell_type": "markdown",
   "metadata": {},
   "source": [
    "### Exercise 4 - Indexing\n",
    "##### Complete the script so that it prints out the second item of the list.\n",
    "\n",
    "letters = [\"u\", \"n\", \"w\", \"i\", \"r\", \"e\", \"d\"]"
   ]
  },
  {
   "cell_type": "code",
   "execution_count": 10,
   "metadata": {},
   "outputs": [
    {
     "data": {
      "text/plain": [
       "'n'"
      ]
     },
     "execution_count": 10,
     "metadata": {},
     "output_type": "execute_result"
    }
   ],
   "source": [
    "letters = [\"u\", \"n\", \"w\", \"i\", \"r\", \"e\", \"d\"]\n",
    "letters[1]"
   ]
  },
  {
   "cell_type": "markdown",
   "metadata": {},
   "source": [
    "### Exercise 5 - Slicing 1\n",
    "##### Question: Write a script so that it prints out a list slice containing items d , e , and f .\n",
    "\n",
    "letters = [\"a\", \"b\", \"c\", \"d\", \"e\", \"f\", \"g\", \"h\", \"i\", \"j\"]\n"
   ]
  },
  {
   "cell_type": "code",
   "execution_count": 12,
   "metadata": {},
   "outputs": [
    {
     "data": {
      "text/plain": [
       "['d', 'e', 'f']"
      ]
     },
     "execution_count": 12,
     "metadata": {},
     "output_type": "execute_result"
    }
   ],
   "source": [
    "letters = [\"a\", \"b\", \"c\", \"d\", \"e\", \"f\", \"g\", \"h\", \"i\", \"j\"]\n",
    "letters[3:6]"
   ]
  },
  {
   "cell_type": "markdown",
   "metadata": {},
   "source": [
    "### List slicing is important in various data manipulation activities. Let's do a few more exercises on that.\n",
    "\n",
    "##### Write a script so that it prints out the first three items of list letters.\n",
    "\n",
    "letters = [\"a\", \"b\", \"c\", \"d\", \"e\", \"f\", \"g\", \"h\", \"i\", \"j\"]"
   ]
  },
  {
   "cell_type": "code",
   "execution_count": 13,
   "metadata": {},
   "outputs": [
    {
     "data": {
      "text/plain": [
       "['a', 'b', 'c']"
      ]
     },
     "execution_count": 13,
     "metadata": {},
     "output_type": "execute_result"
    }
   ],
   "source": [
    "letters = [\"a\", \"b\", \"c\", \"d\", \"e\", \"f\", \"g\", \"h\", \"i\", \"j\"]\n",
    "letters[:3]"
   ]
  },
  {
   "cell_type": "markdown",
   "metadata": {},
   "source": [
    "### Exercise 7 - Negative Indexing\n",
    "##### Question: Complete the script so that it prints out letter i using negative indexing.\n",
    "\n",
    "letters = [\"a\", \"b\", \"c\", \"d\", \"e\", \"f\", \"g\", \"h\", \"i\", \"j\"]"
   ]
  },
  {
   "cell_type": "code",
   "execution_count": 14,
   "metadata": {},
   "outputs": [
    {
     "data": {
      "text/plain": [
       "'i'"
      ]
     },
     "execution_count": 14,
     "metadata": {},
     "output_type": "execute_result"
    }
   ],
   "source": [
    "letters = [\"a\", \"b\", \"c\", \"d\", \"e\", \"f\", \"g\", \"h\", \"i\", \"j\"]\n",
    "letters[-2]"
   ]
  },
  {
   "cell_type": "markdown",
   "metadata": {},
   "source": [
    "### Exercise 8 - Negative Slicing\n",
    "##### Question: Complete the script so that it prints out a list slice containing the last three items of list letters .\n",
    "\n",
    "letters = [\"a\", \"b\", \"c\", \"d\", \"e\", \"f\", \"g\", \"h\", \"i\", \"j\"]"
   ]
  },
  {
   "cell_type": "code",
   "execution_count": 16,
   "metadata": {},
   "outputs": [
    {
     "data": {
      "text/plain": [
       "['h', 'i', 'j']"
      ]
     },
     "execution_count": 16,
     "metadata": {},
     "output_type": "execute_result"
    }
   ],
   "source": [
    "letters = [\"a\", \"b\", \"c\", \"d\", \"e\", \"f\", \"g\", \"h\", \"i\", \"j\"]\n",
    "letters[-3:]"
   ]
  },
  {
   "cell_type": "markdown",
   "metadata": {},
   "source": [
    "### Exercise 9 - Sequence Item Picking\n",
    "##### Question: Complete the script so that it prints out a list slice containing letters a, c, e, g, and i. \n",
    "\n",
    "letters = [\"a\", \"b\", \"c\", \"d\", \"e\", \"f\", \"g\", \"h\", \"i\", \"j\"] "
   ]
  },
  {
   "cell_type": "code",
   "execution_count": 17,
   "metadata": {},
   "outputs": [
    {
     "data": {
      "text/plain": [
       "['a', 'c', 'e', 'g', 'i']"
      ]
     },
     "execution_count": 17,
     "metadata": {},
     "output_type": "execute_result"
    }
   ],
   "source": [
    "letters = [\"a\", \"b\", \"c\", \"d\", \"e\", \"f\", \"g\", \"h\", \"i\", \"j\"] \n",
    "letters[::2]"
   ]
  },
  {
   "cell_type": "markdown",
   "metadata": {},
   "source": [
    "### Exercise 10 - Range\n",
    "##### Create a script that generates and prints a list of numbers from 5 to 80. (5 and 80 should included in list)\n",
    "\n",
    "Do not create the list manually.\n",
    "\n",
    "Hint: Use range to execute this program."
   ]
  },
  {
   "cell_type": "code",
   "execution_count": 23,
   "metadata": {},
   "outputs": [
    {
     "name": "stdout",
     "output_type": "stream",
     "text": [
      "[5, 6, 7, 8, 9, 10, 11, 12, 13, 14, 15, 16, 17, 18, 19, 20, 21, 22, 23, 24, 25, 26, 27, 28, 29, 30, 31, 32, 33, 34, 35, 36, 37, 38, 39, 40, 41, 42, 43, 44, 45, 46, 47, 48, 49, 50, 51, 52, 53, 54, 55, 56, 57, 58, 59, 60, 61, 62, 63, 64, 65, 66, 67, 68, 69, 70, 71, 72, 73, 74, 75, 76, 77, 78, 79, 80]\n"
     ]
    }
   ],
   "source": [
    "rng = range(5,81) #generates a range of integers\n",
    "print(list(rng)) #convert the range object into a list object and print it"
   ]
  },
  {
   "cell_type": "markdown",
   "metadata": {},
   "source": [
    "### Exercise 11 - More On Range\n",
    "##### Write a program to print first 10 numbers that are divisible by 3 using range. "
   ]
  },
  {
   "cell_type": "code",
   "execution_count": 27,
   "metadata": {},
   "outputs": [
    {
     "name": "stdout",
     "output_type": "stream",
     "text": [
      "[0, 3, 6, 9, 12, 15, 18, 21, 24, 27]\n"
     ]
    }
   ],
   "source": [
    "Range =  range(0,30,3)\n",
    "print(list(Range))"
   ]
  },
  {
   "cell_type": "markdown",
   "metadata": {},
   "source": [
    "### Exercise 12 - Removing Duplicates\n",
    "##### Write a script so that it removes duplicate items from list a .\n",
    "\n",
    "a = [\"1\", 1, \"1\", 2]\n",
    " "
   ]
  },
  {
   "cell_type": "code",
   "execution_count": 30,
   "metadata": {},
   "outputs": [
    {
     "name": "stdout",
     "output_type": "stream",
     "text": [
      "[1, 2, '1']\n"
     ]
    }
   ],
   "source": [
    "a=[\"1\",1,\"1\",2]\n",
    "b=set(a)\n",
    "print(list(b))"
   ]
  },
  {
   "cell_type": "markdown",
   "metadata": {},
   "source": [
    "### Exercise 13 - Simple Dictionary\n",
    "##### Create a dictionary that contains the keys a and b and their respective values 1 and 2 . "
   ]
  },
  {
   "cell_type": "code",
   "execution_count": 40,
   "metadata": {},
   "outputs": [
    {
     "name": "stdout",
     "output_type": "stream",
     "text": [
      "{'a': 1, 'b': 2}\n"
     ]
    }
   ],
   "source": [
    "dict={\"a\":1,\"b\":2}\n",
    "print(dict)"
   ]
  },
  {
   "cell_type": "markdown",
   "metadata": {},
   "source": [
    "### Exercise 14 - Accessing Dictionary Items\n",
    "##### Please complete the script so that it prints out the value of key b .\n",
    "\n",
    "d = {\"a\": 1, \"b\": 2}"
   ]
  },
  {
   "cell_type": "code",
   "execution_count": 49,
   "metadata": {},
   "outputs": [
    {
     "data": {
      "text/plain": [
       "2"
      ]
     },
     "execution_count": 49,
     "metadata": {},
     "output_type": "execute_result"
    }
   ],
   "source": [
    "d={\"a\":1,\"b\":2}\n",
    "d[\"b\"]"
   ]
  },
  {
   "cell_type": "markdown",
   "metadata": {},
   "source": [
    "### Exercise 15 - Dictionary Items Sum Up\n",
    "##### Calculate the sum of the values of keys a and b .\n",
    "\n",
    "d = {\"a\": 1, \"b\": 2, \"c\": 3} "
   ]
  },
  {
   "cell_type": "code",
   "execution_count": 51,
   "metadata": {},
   "outputs": [
    {
     "name": "stdout",
     "output_type": "stream",
     "text": [
      "3\n"
     ]
    }
   ],
   "source": [
    "d = {\"a\": 1, \"b\": 2, \"c\": 3}\n",
    "sum = d[\"a\"]+d[\"b\"]\n",
    "print(sum)"
   ]
  },
  {
   "cell_type": "markdown",
   "metadata": {},
   "source": [
    "###  Exercise 16 - Apply Function to Dictionary Items\n",
    "##### Calculate the sum of all dictionary values.\n",
    "\n",
    "d = {\"a\": 1, \"b\": 2, \"c\": 3}"
   ]
  },
  {
   "cell_type": "code",
   "execution_count": 12,
   "metadata": {},
   "outputs": [
    {
     "name": "stdout",
     "output_type": "stream",
     "text": [
      "6\n"
     ]
    }
   ],
   "source": [
    "d = {\"a\": 1, \"b\": 2, \"c\": 3}\n",
    "#print(sum(d.values()))\n",
    "        #OR \n",
    "sum = d[\"a\"]+d[\"b\"]+d[\"c\"]\n",
    "print(sum)"
   ]
  },
  {
   "cell_type": "markdown",
   "metadata": {},
   "source": [
    "### Exercise 17 - Dictionary Filtering\n",
    "##### Filter the dictionary by removing all items with a value of greater than 1.\n",
    "\n",
    "d = {\"a\": 1, \"b\": 2, \"c\": 3} "
   ]
  },
  {
   "cell_type": "code",
   "execution_count": 49,
   "metadata": {},
   "outputs": [
    {
     "name": "stdout",
     "output_type": "stream",
     "text": [
      "{'a': 1}\n"
     ]
    }
   ],
   "source": [
    "d = {\"a\": 1, \"b\": 2, \"c\": 3}\n",
    "\n",
    "find = dict((key , value) for key , value in d.items() if value <= 1)\n",
    "print(find)"
   ]
  },
  {
   "cell_type": "markdown",
   "metadata": {},
   "source": [
    "### Exercise 18 - Acceleration Calculator\n",
    "##### Question: Write a function that calculates acceleration given initial velocity v1, final velocity v2, start time t1, and end time t2. The formula for acceleration is:\n",
    "#### a = (v2 - v1) / (t2 - t1) \n"
   ]
  },
  {
   "cell_type": "code",
   "execution_count": 96,
   "metadata": {},
   "outputs": [
    {
     "name": "stdout",
     "output_type": "stream",
     "text": [
      "Enter the Velocity v1 : 0\n",
      "Enter the Velocity v2 : 10\n",
      "Enter the Time t1 : 0\n",
      "Enter the Time t2 : 20\n",
      "Velocities are 0 , 10\n",
      "Times are 0 , 20\n",
      "From this Acceleration is : 0.5\n"
     ]
    }
   ],
   "source": [
    "v1 = int(input(\"Enter the Velocity v1 : \"))\n",
    "v2 = int(input(\"Enter the Velocity v2 : \"))\n",
    "t1 = int(input(\"Enter the Time t1 : \"))\n",
    "t2 = int(input(\"Enter the Time t2 : \"))\n",
    "\n",
    "def acceleration(v1,v2,t1,t2):\n",
    "    a = (v2 - v1) / (t2 - t1)\n",
    "    return (\"Velocities are {0} , {1}\\nTimes are {2} , {3}\\nFrom this Acceleration is : {4}\".format(v1,v2,t1,t2,a))\n",
    "print(acceleration(v1,v2,t1,t2))"
   ]
  },
  {
   "cell_type": "markdown",
   "metadata": {},
   "source": [
    "### Exercise 19 - Global Variables\n",
    "##### What will the following script output? Please try to do this mentally if you can.\n"
   ]
  },
  {
   "cell_type": "markdown",
   "metadata": {},
   "source": [
    "c = 1       \n",
    "def foo():       \n",
    "____return c    \n",
    "c = 3        \n",
    "print(foo())     \n",
    "\n",
    "_____ comsider as indentation "
   ]
  },
  {
   "cell_type": "code",
   "execution_count": 98,
   "metadata": {},
   "outputs": [
    {
     "name": "stdout",
     "output_type": "stream",
     "text": [
      "3\n"
     ]
    }
   ],
   "source": [
    "c = 1\n",
    "def foo():\n",
    "    return c\n",
    "c = 3\n",
    "print(foo())\n"
   ]
  },
  {
   "cell_type": "markdown",
   "metadata": {},
   "source": [
    "###    Exercise 20 - Local Vs. Global Variables\n",
    "##### Question: The following script throws a NameError in the last line saying that c is not defined. Please fix the function so that there is no error and the last line is able to print out the value of c (i.e. 1 ).\n",
    "\n",
    "def foo():        \n",
    "____________c = 1      \n",
    "____________return c    \n",
    "foo()      \n",
    "print(c)     "
   ]
  },
  {
   "cell_type": "code",
   "execution_count": 100,
   "metadata": {},
   "outputs": [
    {
     "name": "stdout",
     "output_type": "stream",
     "text": [
      "1\n"
     ]
    }
   ],
   "source": [
    "def foo(): \n",
    "    global c\n",
    "    c = 1 \n",
    "    return c \n",
    "foo() \n",
    "print(c)"
   ]
  },
  {
   "cell_type": "markdown",
   "metadata": {},
   "source": [
    "### Exercise 21 - Function Blueprint\n",
    "##### Question: Why is there an error in the code and how would you fix it?\n",
    "\n",
    "def foo(a=1, b=2):       \n",
    "\n",
    "    return a + b\n",
    " \n",
    "x = foo - 1\n",
    " "
   ]
  },
  {
   "cell_type": "code",
   "execution_count": 101,
   "metadata": {},
   "outputs": [],
   "source": [
    "def foo(a=1, b=2):\n",
    "    return a + b\n",
    " \n",
    "x = foo() - 1"
   ]
  },
  {
   "cell_type": "markdown",
   "metadata": {},
   "source": [
    "### Exercise 22 - String Splitter\n",
    "##### Write a function that takes any string as input and returns the number of words for that string. "
   ]
  },
  {
   "cell_type": "code",
   "execution_count": 108,
   "metadata": {},
   "outputs": [
    {
     "name": "stdout",
     "output_type": "stream",
     "text": [
      "4\n"
     ]
    }
   ],
   "source": [
    "def count_string(string):\n",
    "    string_list = string.split()\n",
    "    return len(string_list)\n",
    "print(count_string(\"Well come here !\"))"
   ]
  },
  {
   "cell_type": "markdown",
   "metadata": {},
   "source": [
    "### Exercise 23 - Word Counter\n",
    "##### Please download the words.txt file from the attachment of unwired learning and then write a Python function that takes a text file as input and returns the number of words contained in the text file."
   ]
  },
  {
   "cell_type": "code",
   "execution_count": 124,
   "metadata": {},
   "outputs": [
    {
     "name": "stdout",
     "output_type": "stream",
     "text": [
      "10\n"
     ]
    }
   ],
   "source": [
    "def count_worlds(filepath):\n",
    "    with open(filepath,'r') as file:\n",
    "        string =  file.read()\n",
    "        string_list = string.split()\n",
    "        return len(string_list)\n",
    "print(count_worlds(\"word.txt\"))"
   ]
  },
  {
   "cell_type": "markdown",
   "metadata": {},
   "source": [
    "### Exercise 24 - Advanced Word Counter\n",
    "##### Write a function that takes a text file as input and returns the number of words contained in the text file. Please take into consideration that some words can be separated by a comma with no space. For example \"Hi,it's me.\" would need to be counted as three words. For your convenience, you can use the text file in the attachment."
   ]
  },
  {
   "cell_type": "code",
   "execution_count": 133,
   "metadata": {},
   "outputs": [
    {
     "name": "stdout",
     "output_type": "stream",
     "text": [
      "10\n"
     ]
    }
   ],
   "source": [
    "def count_words(filepath):\n",
    "    with open (filepath,'r') as file:\n",
    "        string = file.read()\n",
    "    string = string.replace(\",\",\" \")\n",
    "    string_list = string.split()\n",
    "    return len(string_list)\n",
    "print(count_words(\"words2.txt\"))"
   ]
  },
  {
   "cell_type": "markdown",
   "metadata": {},
   "source": [
    "### Exercise 25 - NameError\n",
    "##### The following code is supposed to print out the square root of 9, but it throws an error instead because another line before that is missing. Please fix the script so that it prints out the square root of 9.\n",
    "\n",
    "result = math.sqrt(9)      \n",
    "print(result) "
   ]
  },
  {
   "cell_type": "code",
   "execution_count": 135,
   "metadata": {},
   "outputs": [
    {
     "name": "stdout",
     "output_type": "stream",
     "text": [
      "3.0\n"
     ]
    }
   ],
   "source": [
    "import math\n",
    "result = math.sqrt(9)\n",
    "print(result)"
   ]
  },
  {
   "cell_type": "markdown",
   "metadata": {},
   "source": [
    "### Exercise 26 - Translator\n",
    "##### Create an English to Portuguese translation program. The program takes a word from the user as input and translates it using the following dictionary as a vocabulary source.\n",
    "\n",
    "d = dict(weather = \"clima\", earth = \"terra\", rain = \"chuva\")  "
   ]
  },
  {
   "cell_type": "code",
   "execution_count": 5,
   "metadata": {},
   "outputs": [
    {
     "name": "stdout",
     "output_type": "stream",
     "text": [
      "Enter the word : rain\n"
     ]
    },
    {
     "data": {
      "text/plain": [
       "'chuva'"
      ]
     },
     "execution_count": 5,
     "metadata": {},
     "output_type": "execute_result"
    }
   ],
   "source": [
    "d = dict(weather = \"clima\", earth = \"terra\", rain = \"chuva\") \n",
    "word = input(\"Enter the word : \")\n",
    "d[word]"
   ]
  },
  {
   "cell_type": "code",
   "execution_count": 2,
   "metadata": {},
   "outputs": [
    {
     "name": "stdout",
     "output_type": "stream",
     "text": [
      "Enter word: earth\n",
      "terra\n"
     ]
    }
   ],
   "source": [
    "d = dict(weather = \"clima\", earth = \"terra\", rain = \"chuva\")\n",
    "def vocabulary(word):\n",
    "    return d[word]\n",
    " \n",
    "word = input(\"Enter word: \")\n",
    "print(vocabulary(word))"
   ]
  },
  {
   "cell_type": "markdown",
   "metadata": {},
   "source": [
    "### Exercise 27 - Text Input\n",
    "##### The code produces an error. Please understand the error and try to fix it\n",
    "age = input(\"What's your age? \")         \n",
    "age_last_year = age - 1        \n",
    "print(\"Last year you were %s.\" % age_last_year)\n",
    " "
   ]
  },
  {
   "cell_type": "code",
   "execution_count": 14,
   "metadata": {},
   "outputs": [
    {
     "name": "stdout",
     "output_type": "stream",
     "text": [
      "What's your age ? 22\n",
      "Last year you were 21.\n"
     ]
    }
   ],
   "source": [
    "age = int(input(\"What's your age ? \"))\n",
    "age_last_year = age - 1\n",
    "print(\"Last year you were %d.\"%age_last_year)"
   ]
  },
  {
   "cell_type": "markdown",
   "metadata": {},
   "source": [
    "### Exercise 28 - Multilevel Dictionary\n",
    "##### Question: Print out the last name of the second employee.\n",
    "\n",
    "d = {\"employees\":[{\"firstName\": \"John\", \"lastName\": \"Doe\"}, {\"firstName\": \"Anna\", \"lastName\": \"Smith\"}, {\"firstName\": \"Peter\", \"lastName\": \"Jones\"}], \n",
    "\"owners\":[{\"firstName\": \"Jack\", \"lastName\": \"Petter\"}, {\"firstName\": \"Jessy\", \"lastName\": \"Petter\"}]} "
   ]
  },
  {
   "cell_type": "code",
   "execution_count": 52,
   "metadata": {},
   "outputs": [
    {
     "data": {
      "text/plain": [
       "'Smith'"
      ]
     },
     "execution_count": 52,
     "metadata": {},
     "output_type": "execute_result"
    }
   ],
   "source": [
    "d = {\"employees\":[{\"firstName\": \"John\", \"lastName\": \"Doe\"}, {\"firstName\": \"Anna\", \"lastName\": \"Smith\"}, {\"firstName\": \"Peter\", \"lastName\": \"Jones\"}], \n",
    "\"owners\":[{\"firstName\": \"Jack\", \"lastName\": \"Petter\"}, {\"firstName\": \"Jessy\", \"lastName\": \"Petter\"}]}\n",
    "\n",
    "d['employees'][1]['lastName']"
   ]
  },
  {
   "cell_type": "markdown",
   "metadata": {},
   "source": [
    "###  Exercise 29 - Modifying Multilevel Dictionaries\n",
    "##### Please update the dictionary by changing the last name of the second employee from Smith to Smooth or to whatever takes your fancy.\n",
    "\n",
    "d = {\"employees\":[{\"firstName\": \"John\", \"lastName\": \"Doe\"},\n",
    "\n",
    "\n",
    "              {\"firstName\": \"Anna\", \"lastName\": \"Smith\"},\n",
    "                \n",
    "              {\"firstName\": \"Peter\", \"lastName\": \"Jones\"}],\n",
    "              \n",
    "\"owners\":[{\"firstName\": \"Jack\", \"lastName\": \"Petter\"},\n",
    "\n",
    "        {\"firstName\": \"Jessy\", \"lastName\": \"Petter\"}]}\n",
    " "
   ]
  },
  {
   "cell_type": "code",
   "execution_count": 67,
   "metadata": {},
   "outputs": [
    {
     "name": "stdout",
     "output_type": "stream",
     "text": [
      "before change :  Smith\n",
      "\n",
      " {'employees': [{'firstName': 'John', 'lastName': 'Doe'}, {'firstName': 'Anna', 'lastName': 'Smith'}, {'firstName': 'Peter', 'lastName': 'Jones'}], 'owners': [{'firstName': 'Jack', 'lastName': 'Petter'}, {'firstName': 'Jessy', 'lastName': 'Petter'}]}\n",
      "\n",
      "After change :  Smooth\n",
      "\n",
      " {'employees': [{'firstName': 'John', 'lastName': 'Doe'}, {'firstName': 'Anna', 'lastName': 'Smooth'}, {'firstName': 'Peter', 'lastName': 'Jones'}], 'owners': [{'firstName': 'Jack', 'lastName': 'Petter'}, {'firstName': 'Jessy', 'lastName': 'Petter'}]}\n"
     ]
    }
   ],
   "source": [
    "d = {\"employees\":[{\"firstName\": \"John\", \"lastName\": \"Doe\"},\n",
    "                {\"firstName\": \"Anna\", \"lastName\": \"Smith\"},\n",
    "                {\"firstName\": \"Peter\", \"lastName\": \"Jones\"}],\n",
    "\"owners\":[{\"firstName\": \"Jack\", \"lastName\": \"Petter\"},\n",
    "          {\"firstName\": \"Jessy\", \"lastName\": \"Petter\"}]}\n",
    "print(\"before change : \",d['employees'][1]['lastName'])\n",
    "print(\"\\n\",d)\n",
    "[d['employees'][1]['lastName']]=['Smooth']\n",
    "print(\"\\nAfter change : \",d['employees'][1]['lastName'])\n",
    "print(\"\\n\",d)"
   ]
  },
  {
   "cell_type": "markdown",
   "metadata": {},
   "source": [
    "###  Exercise 30 - Adding to Multilevel Dictionaries\n",
    "##### Please add a new employee to the dictionary.\n",
    "\n",
    "d = {\"employees\":[{\"firstName\": \"John\", \"lastName\": \"Doe\"},\n",
    "\n",
    "                {\"firstName\": \"Anna\", \"lastName\": \"Smith\"},\n",
    "                \n",
    "                {\"firstName\": \"Peter\", \"lastName\": \"Jones\"}],\n",
    "                \n",
    "\"owners\":[{\"firstName\": \"Jack\", \"lastName\": \"Petter\"},\n",
    "     \n",
    "     {\"firstName\": \"Jessy\", \"lastName\": \"Petter\"}]}"
   ]
  },
  {
   "cell_type": "code",
   "execution_count": 85,
   "metadata": {},
   "outputs": [
    {
     "name": "stdout",
     "output_type": "stream",
     "text": [
      "\n",
      "\n",
      " {'firstName': 'Albert', 'lastName': 'Bert'}\n"
     ]
    }
   ],
   "source": [
    "d = {'employees': [{'firstName': 'John', 'lastName': 'Doe'}, \n",
    "                   {'firstName': 'Anna', 'lastName': 'Smooth'}, \n",
    "                   {'firstName': 'Peter', 'lastName': 'Jones'}],\n",
    "     'owners': [{'firstName': 'Jack', 'lastName': 'Petter'}, \n",
    "                {'firstName': 'Jessy', 'lastName': 'Petter'}]}\n",
    "\n",
    "d['employees'].append({'firstName': 'Albert', 'lastName': 'Bert'})\n",
    "\n",
    "print(\"\\n\\n\",d['employees'][3])"
   ]
  },
  {
   "cell_type": "markdown",
   "metadata": {},
   "source": [
    "# Round 0 End , Thank You ! ! ! ! "
   ]
  }
 ],
 "metadata": {
  "kernelspec": {
   "display_name": "Python 3",
   "language": "python",
   "name": "python3"
  },
  "language_info": {
   "codemirror_mode": {
    "name": "ipython",
    "version": 3
   },
   "file_extension": ".py",
   "mimetype": "text/x-python",
   "name": "python",
   "nbconvert_exporter": "python",
   "pygments_lexer": "ipython3",
   "version": "3.7.3"
  }
 },
 "nbformat": 4,
 "nbformat_minor": 2
}
